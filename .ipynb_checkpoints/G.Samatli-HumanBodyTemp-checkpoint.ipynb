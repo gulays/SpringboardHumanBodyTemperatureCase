{
 "cells": [
  {
   "cell_type": "markdown",
   "metadata": {},
   "source": [
    "# What is the True Normal Human Body Temperature? \n",
    "\n",
    "#### Background\n",
    "\n",
    "The mean normal body temperature was held to be 37$^{\\circ}$C or 98.6$^{\\circ}$F for more than 120 years since it was first conceptualized and reported by Carl Wunderlich in a famous 1868 book. But, is this value statistically correct?"
   ]
  },
  {
   "cell_type": "markdown",
   "metadata": {},
   "source": [
    "<div class=\"span5 alert alert-info\">\n",
    "<h3>Exercises</h3>\n",
    "\n",
    "<p>In this exercise, you will analyze a dataset of human body temperatures and employ the concepts of hypothesis testing, confidence intervals, and statistical significance.</p>\n",
    "\n",
    "<p>Answer the following questions <b>in this notebook below and submit to your Github account</b>.</p> \n",
    "\n",
    "<ol>\n",
    "<li>  Is the distribution of body temperatures normal? \n",
    "    <ul>\n",
    "    <li> Although this is not a requirement for CLT to hold (read CLT carefully), it gives us some peace of mind that the population may also be normally distributed if we assume that this sample is representative of the population.\n",
    "    </ul>\n",
    "<li>  Is the sample size large? Are the observations independent?\n",
    "    <ul>\n",
    "    <li> Remember that this is a condition for the CLT, and hence the statistical tests we are using, to apply.\n",
    "    </ul>\n",
    "<li>  Is the true population mean really 98.6 degrees F?\n",
    "    <ul>\n",
    "    <li> Would you use a one-sample or two-sample test? Why?\n",
    "    <li> In this situation, is it appropriate to use the $t$ or $z$ statistic? \n",
    "    <li> Now try using the other test. How is the result be different? Why?\n",
    "    </ul>\n",
    "<li>  At what temperature should we consider someone's temperature to be \"abnormal\"?\n",
    "    <ul>\n",
    "    <li> Start by computing the margin of error and confidence interval.\n",
    "    </ul>\n",
    "<li>  Is there a significant difference between males and females in normal temperature?\n",
    "    <ul>\n",
    "    <li> What test did you use and why?\n",
    "    <li> Write a story with your conclusion in the context of the original problem.\n",
    "    </ul>\n",
    "</ol>\n",
    "\n",
    "You can include written notes in notebook cells using Markdown: \n",
    "   - In the control panel at the top, choose Cell > Cell Type > Markdown\n",
    "   - Markdown syntax: http://nestacms.com/docs/creating-content/markdown-cheat-sheet\n",
    "\n",
    "#### Resources\n",
    "\n",
    "+ Information and data sources: http://www.amstat.org/publications/jse/datasets/normtemp.txt, http://www.amstat.org/publications/jse/jse_data_archive.htm\n",
    "+ Markdown syntax: http://nestacms.com/docs/creating-content/markdown-cheat-sheet\n",
    "\n",
    "****\n",
    "</div>"
   ]
  },
  {
   "cell_type": "code",
   "execution_count": 1,
   "metadata": {
    "collapsed": true
   },
   "outputs": [],
   "source": [
    "import pandas as pd\n",
    "import scipy.stats as stats\n",
    "import numpy as np\n",
    "import seaborn as sns\n",
    "import statsmodels.stats.weightstats as ws\n",
    "import statsmodels.api as sm\n",
    "\n",
    "from matplotlib import pyplot as plt\n",
    "%matplotlib inline"
   ]
  },
  {
   "cell_type": "code",
   "execution_count": 2,
   "metadata": {
    "collapsed": true
   },
   "outputs": [],
   "source": [
    "df = pd.read_csv('data/human_body_temperature.csv')"
   ]
  },
  {
   "cell_type": "code",
   "execution_count": 3,
   "metadata": {
    "collapsed": false
   },
   "outputs": [
    {
     "data": {
      "text/html": [
       "<div>\n",
       "<table border=\"1\" class=\"dataframe\">\n",
       "  <thead>\n",
       "    <tr style=\"text-align: right;\">\n",
       "      <th></th>\n",
       "      <th>temperature</th>\n",
       "      <th>gender</th>\n",
       "      <th>heart_rate</th>\n",
       "    </tr>\n",
       "  </thead>\n",
       "  <tbody>\n",
       "    <tr>\n",
       "      <th>0</th>\n",
       "      <td>99.3</td>\n",
       "      <td>F</td>\n",
       "      <td>68.0</td>\n",
       "    </tr>\n",
       "    <tr>\n",
       "      <th>1</th>\n",
       "      <td>98.4</td>\n",
       "      <td>F</td>\n",
       "      <td>81.0</td>\n",
       "    </tr>\n",
       "    <tr>\n",
       "      <th>2</th>\n",
       "      <td>97.8</td>\n",
       "      <td>M</td>\n",
       "      <td>73.0</td>\n",
       "    </tr>\n",
       "    <tr>\n",
       "      <th>3</th>\n",
       "      <td>99.2</td>\n",
       "      <td>F</td>\n",
       "      <td>66.0</td>\n",
       "    </tr>\n",
       "    <tr>\n",
       "      <th>4</th>\n",
       "      <td>98.0</td>\n",
       "      <td>F</td>\n",
       "      <td>73.0</td>\n",
       "    </tr>\n",
       "  </tbody>\n",
       "</table>\n",
       "</div>"
      ],
      "text/plain": [
       "   temperature gender  heart_rate\n",
       "0         99.3      F        68.0\n",
       "1         98.4      F        81.0\n",
       "2         97.8      M        73.0\n",
       "3         99.2      F        66.0\n",
       "4         98.0      F        73.0"
      ]
     },
     "execution_count": 3,
     "metadata": {},
     "output_type": "execute_result"
    }
   ],
   "source": [
    "df.head(n=5)"
   ]
  },
  {
   "cell_type": "code",
   "execution_count": 4,
   "metadata": {
    "collapsed": false
   },
   "outputs": [
    {
     "data": {
      "text/html": [
       "<div>\n",
       "<table border=\"1\" class=\"dataframe\">\n",
       "  <thead>\n",
       "    <tr style=\"text-align: right;\">\n",
       "      <th></th>\n",
       "      <th>temperature</th>\n",
       "      <th>heart_rate</th>\n",
       "    </tr>\n",
       "  </thead>\n",
       "  <tbody>\n",
       "    <tr>\n",
       "      <th>count</th>\n",
       "      <td>130.000000</td>\n",
       "      <td>130.000000</td>\n",
       "    </tr>\n",
       "    <tr>\n",
       "      <th>mean</th>\n",
       "      <td>98.249231</td>\n",
       "      <td>73.761538</td>\n",
       "    </tr>\n",
       "    <tr>\n",
       "      <th>std</th>\n",
       "      <td>0.733183</td>\n",
       "      <td>7.062077</td>\n",
       "    </tr>\n",
       "    <tr>\n",
       "      <th>min</th>\n",
       "      <td>96.300000</td>\n",
       "      <td>57.000000</td>\n",
       "    </tr>\n",
       "    <tr>\n",
       "      <th>25%</th>\n",
       "      <td>97.800000</td>\n",
       "      <td>69.000000</td>\n",
       "    </tr>\n",
       "    <tr>\n",
       "      <th>50%</th>\n",
       "      <td>98.300000</td>\n",
       "      <td>74.000000</td>\n",
       "    </tr>\n",
       "    <tr>\n",
       "      <th>75%</th>\n",
       "      <td>98.700000</td>\n",
       "      <td>79.000000</td>\n",
       "    </tr>\n",
       "    <tr>\n",
       "      <th>max</th>\n",
       "      <td>100.800000</td>\n",
       "      <td>89.000000</td>\n",
       "    </tr>\n",
       "  </tbody>\n",
       "</table>\n",
       "</div>"
      ],
      "text/plain": [
       "       temperature  heart_rate\n",
       "count   130.000000  130.000000\n",
       "mean     98.249231   73.761538\n",
       "std       0.733183    7.062077\n",
       "min      96.300000   57.000000\n",
       "25%      97.800000   69.000000\n",
       "50%      98.300000   74.000000\n",
       "75%      98.700000   79.000000\n",
       "max     100.800000   89.000000"
      ]
     },
     "execution_count": 4,
     "metadata": {},
     "output_type": "execute_result"
    }
   ],
   "source": [
    "df.describe()"
   ]
  },
  {
   "cell_type": "code",
   "execution_count": 5,
   "metadata": {
    "collapsed": true
   },
   "outputs": [],
   "source": [
    "alpha = 0.05"
   ]
  },
  {
   "cell_type": "markdown",
   "metadata": {},
   "source": [
    "1. Is the distribution of body temperatures normal?\n",
    "First, I look the histogram to see the shape of the data visually. From histogram, the data looks symmetric and normal. \n",
    "Next, I created qqplot. This plot shows that there is not enough evidence to assume the distribution is not normal. Lastly, I do the chi-square normality test. Assuming the significance level of 0.05, the test concludes that there is not enough evidence to reject the null hypothesis that the data are sampled from a normal distribution. Thus, for the following analyses it can be assumed that the distribution of body temperatures is normal.\n"
   ]
  },
  {
   "cell_type": "code",
   "execution_count": 6,
   "metadata": {
    "collapsed": false
   },
   "outputs": [
    {
     "data": {
      "text/plain": [
       "<matplotlib.axes._subplots.AxesSubplot at 0x1e63a90f4a8>"
      ]
     },
     "execution_count": 6,
     "metadata": {},
     "output_type": "execute_result"
    },
    {
     "data": {
      "image/png": "[encoded data removed]",
      "text/plain": [
       "<matplotlib.figure.Figure at 0x1e63e688278>"
      ]
     },
     "metadata": {},
     "output_type": "display_data"
    }
   ],
   "source": [
    "df.temperature.hist(bins=10)"
   ]
  },
  {
   "cell_type": "code",
   "execution_count": 7,
   "metadata": {
    "collapsed": false
   },
   "outputs": [
    {
     "data": {
      "image/png": "[encoded data removed]",
      "text/plain": [
       "<matplotlib.figure.Figure at 0x1e63a676cc0>"
      ]
     },
     "metadata": {},
     "output_type": "display_data"
    }
   ],
   "source": [
    "normalqq = sm.qqplot(df.temperature)\n",
    "plt.show()\n"
   ]
  },
  {
   "cell_type": "code",
   "execution_count": 8,
   "metadata": {
    "collapsed": false
   },
   "outputs": [
    {
     "name": "stdout",
     "output_type": "stream",
     "text": [
      "p-value for the chi-square normality test:0.258747986349\n",
      "The null hypothesis that the data are sampled from a normal distribution is not rejected at a 0.05 level of significance. Thus we can assume the distribution is normal\n"
     ]
    }
   ],
   "source": [
    "(chi, p) = stats.normaltest(df.temperature, axis=0, nan_policy='propagate')\n",
    "print (\"p-value for the chi-square normality test:\" + str(p))\n",
    "if p <= alpha:\n",
    "    print ('The null hypothesis that the data are sampled from a normal distribution is rejected at a ' +str(alpha)+ ' level of significance.')\n",
    "else:\n",
    "    print ('The null hypothesis that the data are sampled from a normal distribution is not rejected at a ' +str(alpha)+ ' level of significance. Thus we can assume the distribution is normal')"
   ]
  },
  {
   "cell_type": "markdown",
   "metadata": {},
   "source": [
    "2. Is the sample size large? Are the observations independent?\n",
    "The sample size of 130 is large enough for the parametric statistical tests. In addition, the sample is well-balanced, i.e. there are equal number of females and males. "
   ]
  },
  {
   "cell_type": "code",
   "execution_count": 9,
   "metadata": {
    "collapsed": false
   },
   "outputs": [
    {
     "data": {
      "text/html": [
       "<div>\n",
       "<table border=\"1\" class=\"dataframe\">\n",
       "  <thead>\n",
       "    <tr style=\"text-align: right;\">\n",
       "      <th></th>\n",
       "      <th>temperature</th>\n",
       "      <th>heart_rate</th>\n",
       "    </tr>\n",
       "    <tr>\n",
       "      <th>gender</th>\n",
       "      <th></th>\n",
       "      <th></th>\n",
       "    </tr>\n",
       "  </thead>\n",
       "  <tbody>\n",
       "    <tr>\n",
       "      <th>F</th>\n",
       "      <td>65</td>\n",
       "      <td>65</td>\n",
       "    </tr>\n",
       "    <tr>\n",
       "      <th>M</th>\n",
       "      <td>65</td>\n",
       "      <td>65</td>\n",
       "    </tr>\n",
       "  </tbody>\n",
       "</table>\n",
       "</div>"
      ],
      "text/plain": [
       "        temperature  heart_rate\n",
       "gender                         \n",
       "F                65          65\n",
       "M                65          65"
      ]
     },
     "execution_count": 9,
     "metadata": {},
     "output_type": "execute_result"
    }
   ],
   "source": [
    "df.groupby('gender').count()"
   ]
  },
  {
   "cell_type": "markdown",
   "metadata": {},
   "source": [
    "3. Is the true population mean really 98.6 degrees F?\n",
    "Since the sample size is large, we can use z-test to test whether the population mean temperatur is 98.6 F or not (even t-test is used either the test statistics nor the p-value for the test will not be much different due to the large sample) . This is a one-sample test since for this test we don't need to divide the population into  two groups-females and males. \n"
   ]
  },
  {
   "cell_type": "code",
   "execution_count": 10,
   "metadata": {
    "collapsed": false
   },
   "outputs": [
    {
     "name": "stdout",
     "output_type": "stream",
     "text": [
      "z-test = -5.45482329236 and p-value = 4.9021570141e-08\n",
      "The null hypothesis that the true population mean is equal to 98.6 degrees F is rejected at a 0.05 level of significance.\n"
     ]
    }
   ],
   "source": [
    "truemean = 98.6\n",
    "(z, p) = ws.ztest(df.temperature, value = truemean)\n",
    "\n",
    "print(\"z-test = \" + str(z) + \" and p-value = \"+ str(p))\n",
    "\n",
    "if p <= alpha:\n",
    "    print ('The null hypothesis that the true population mean is equal to ' + str(truemean) + ' degrees F is rejected at a ' +str(alpha)+ ' level of significance.')\n",
    "else:\n",
    "    print ('The null hypothesis that the true population mean is equal to ' + str(truemean) + ' degrees F is not rejected at a ' +str(alpha)+ ' level of significance. Thus we can assume the distribution is normal')"
   ]
  },
  {
   "cell_type": "markdown",
   "metadata": {},
   "source": [
    "The null hypothesis is rejected but we still find a range for the true population mean with a confidence interval. "
   ]
  },
  {
   "cell_type": "code",
   "execution_count": 11,
   "metadata": {
    "collapsed": false
   },
   "outputs": [
    {
     "name": "stdout",
     "output_type": "stream",
     "text": [
      "A 0.95% confidence interval for true population mean of temperature is (98.123196428181657, 98.375265110279898)\n"
     ]
    }
   ],
   "source": [
    "conf_int = stats.norm.interval(1-alpha, loc=df.temperature.mean(), scale=df.temperature.std()/np.sqrt(len(df)))\n",
    "print ('A '+ str(1-alpha)+ '% confidence interval for true population mean of temperature is ' + str(conf_int) )\n"
   ]
  },
  {
   "cell_type": "markdown",
   "metadata": {},
   "source": [
    "4. At what temperature should we consider someone's temperature to be \"abnormal\"?\n",
    "We can assume that tempertures beyond the confidence interval above are abnormal. "
   ]
  },
  {
   "cell_type": "code",
   "execution_count": 12,
   "metadata": {
    "collapsed": false
   },
   "outputs": [
    {
     "name": "stdout",
     "output_type": "stream",
     "text": [
      "The margin of error for 0.95 % is 0.126034341049\n"
     ]
    }
   ],
   "source": [
    "z_crit = stats.norm.ppf(q = 1-(alpha/2))\n",
    "\n",
    "margin_of_error = z_crit * df.temperature.std()/np.sqrt(len(df))\n",
    "print ('The margin of error for '+str(1-alpha)+' % is '+str(margin_of_error))\n"
   ]
  },
  {
   "cell_type": "code",
   "execution_count": 13,
   "metadata": {
    "collapsed": false
   },
   "outputs": [
    {
     "name": "stdout",
     "output_type": "stream",
     "text": [
      "A 0.95% confidence interval for true population mean of temperature is (98.123196428181657, 98.375265110279898)\n"
     ]
    }
   ],
   "source": [
    "print ('A '+ str(1-alpha)+ '% confidence interval for true population mean of temperature is ' + str(conf_int) )"
   ]
  },
  {
   "cell_type": "markdown",
   "metadata": {},
   "source": [
    "5. Is there a significant difference between males and females in normal temperature?\n",
    "The following assumptions are made:\n",
    "-The two populations have the same variance.\n",
    "-The populations are normally distributed.\n",
    "-The samples are independent."
   ]
  },
  {
   "cell_type": "code",
   "execution_count": 14,
   "metadata": {
    "collapsed": false
   },
   "outputs": [
    {
     "name": "stdout",
     "output_type": "stream",
     "text": [
      "Male Sample Mean: 98.1046153846154\n",
      "Female Sample Mean: 98.39384615384613\n"
     ]
    }
   ],
   "source": [
    "male = df[df.gender == 'M']\n",
    "female = df[df.gender == 'F']\n",
    "\n",
    "meanM = male.temperature.mean()\n",
    "print('Male Sample Mean: ' + str(meanM))\n",
    "meanF = female.temperature.mean()\n",
    "print('Female Sample Mean: ' + str(meanF))"
   ]
  },
  {
   "cell_type": "code",
   "execution_count": 15,
   "metadata": {
    "collapsed": false
   },
   "outputs": [
    {
     "name": "stdout",
     "output_type": "stream",
     "text": [
      "The test statistics and p-value for the hypothesis test: the mean temperature for males and females are equal \n",
      "t-test = -2.28543453817 and p-value = 0.0222873607607\n",
      "The null hypothesis that two population mean is equal is rejected at a 0.05 level of significance.\n"
     ]
    }
   ],
   "source": [
    "(t_testMF, p_valueMF) = ws.ztest(male.temperature, female.temperature, value = 0, alternative='two-sided', usevar='pooled')\n",
    "\n",
    "print ('The test statistics and p-value for the hypothesis test: the mean temperature for males and females are equal ')\n",
    "print(\"t-test = \" + str(t_testMF) + \" and p-value = \"+ str(p_valueMF))\n",
    "\n",
    "if p_valueMF <= alpha:\n",
    "    print ('The null hypothesis that two population mean is equal is rejected at a ' +str(alpha)+ ' level of significance.')\n",
    "else:\n",
    "    print ('The null hypothesis that two population mean is equal is not rejected at a ' +str(alpha)+ ' level of significance. Thus we can assume the distribution is normal')"
   ]
  },
  {
   "cell_type": "markdown",
   "metadata": {},
   "source": [
    "For this data set,the average male temperature is 98.1046 and female temperature is 98.3938. Just looking at these two numbers do not reveal much information whether the average body temperatures for males and females are equal or not. The hypothesis testing however implies that the true mean of male body temperature and of female body temperature are not equal with a 0.05 level of significance. "
   ]
  },
  {
   "cell_type": "code",
   "execution_count": null,
   "metadata": {
    "collapsed": true
   },
   "outputs": [],
   "source": []
  },
  {
   "cell_type": "code",
   "execution_count": null,
   "metadata": {
    "collapsed": true
   },
   "outputs": [],
   "source": []
  }
 ],
 "metadata": {
  "kernelspec": {
   "display_name": "Python 3",
   "language": "python",
   "name": "python3"
  },
  "language_info": {
   "codemirror_mode": {
    "name": "ipython",
    "version": 3
   },
   "file_extension": ".py",
   "mimetype": "text/x-python",
   "name": "python",
   "nbconvert_exporter": "python",
   "pygments_lexer": "ipython3",
   "version": "3.6.0"
  }
 },
 "nbformat": 4,
 "nbformat_minor": 0
}
